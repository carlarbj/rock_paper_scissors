{
 "cells": [
  {
   "cell_type": "code",
   "execution_count": 84,
   "id": "8718cc7c",
   "metadata": {
    "ExecuteTime": {
     "end_time": "2021-11-26T00:20:37.159744Z",
     "start_time": "2021-11-26T00:20:37.132779Z"
    }
   },
   "outputs": [],
   "source": [
    "def papelpedratesoura ():\n",
    "    import random\n",
    "    items_comp = ['pedra', 'papel', 'tesoura']\n",
    "    user_item = ''\n",
    "    voce = 0\n",
    "    eu = 0\n",
    "\n",
    "    while user_item !='sair':\n",
    "        user_item =input(\"*********\\nEscolha papel, pedra ou tesoura: \\nCaso você não queira mais jogar, digite'sair'.\")\n",
    "\n",
    "        x=random.choice(items_comp)\n",
    "\n",
    "        if user_item == 'pedra':\n",
    "            if x == 'pedra':\n",
    "                print(f\"Eu também escolhi {x}. Empatamos.\")\n",
    "            elif x == 'tesoura':\n",
    "                eu+=1\n",
    "                print(f\"Eu escolhi {x}. Você perdeu! Pedra ganha de tesoura\")\n",
    "            elif x == 'papel':\n",
    "                voce+=1\n",
    "                print(f\"Eu escolhi {x}. Você ganhou! Papel ganha de pedra\")\n",
    "\n",
    "        elif user_item == 'papel':\n",
    "            if x == 'papel':\n",
    "                print(f\"Eu também escolhi {x}. Empatamos.\")\n",
    "            elif x == 'tesoura':\n",
    "                eu+=1\n",
    "                print(f\"Eu escolhi {x}. Você perdeu! Tesoura ganha de papel\")\n",
    "            elif x == 'pedra':\n",
    "                voce+=1\n",
    "                print(f\"Eu escolhi {x}. Você ganhou! Papel ganha de pedra\")\n",
    "\n",
    "        elif user_item == 'tesoura':\n",
    "            if x == 'tesoura':\n",
    "                print(f\"Eu também escolhi {x}. Empatamos.\")\n",
    "            elif x == 'pedra':\n",
    "                voce+=1\n",
    "                print(f\"Eu escolhi {x}. Você ganhou! Rock beats Scissors\")\n",
    "            elif x == 'papel':\n",
    "                eu+=1\n",
    "                print(f\"Eu escolhi {x}. Você perdeu! Papel ganha de tesoura\")\n",
    "\n",
    "        elif user_item == 'sair':\n",
    "            print (\"----------\"*6)\n",
    "            print (f'o placar foi {eu} pra mim e {voce} para você')\n",
    "            if eu > voce:\n",
    "                print(\"Eu ganhei!!! =D Que tal uma revanche?\")\n",
    "                replay()\n",
    "            elif eu < voce:\n",
    "                print(\"Você ganhou! Parabens! \\o/ \")\n",
    "            else:\n",
    "                print('Ah, nããão... Empatamos')\n",
    "                replay()\n",
    "\n",
    "        else:\n",
    "          print('invalido')\n"
   ]
  },
  {
   "cell_type": "code",
   "execution_count": 82,
   "id": "afb931d9",
   "metadata": {
    "ExecuteTime": {
     "end_time": "2021-11-26T00:19:41.959233Z",
     "start_time": "2021-11-26T00:19:41.945789Z"
    }
   },
   "outputs": [],
   "source": [
    "def replay():\n",
    "    tie=input (\"Quer jogar de novo? S/N\")\n",
    "    if tie == 'S':\n",
    "        papelpedratesoura ()\n",
    "    elif tie == 'N':\n",
    "        print(\"Está bem. Até a próxima!\")\n",
    "    else:\n",
    "        print('invalido')\n",
    "        replay()"
   ]
  },
  {
   "cell_type": "code",
   "execution_count": 83,
   "id": "4c753321",
   "metadata": {
    "ExecuteTime": {
     "end_time": "2021-11-26T00:20:09.975825Z",
     "start_time": "2021-11-26T00:19:43.111281Z"
    }
   },
   "outputs": [
    {
     "name": "stdout",
     "output_type": "stream",
     "text": [
      "*********\n",
      "Escolha papel, pedra ou tesoura: \n",
      "Caso você não queira mais jogar, digite'sair'.papel\n",
      "Eu escolhi tesoura. Você perdeu! Tesoura ganha de papel\n",
      "*********\n",
      "Escolha papel, pedra ou tesoura: \n",
      "Caso você não queira mais jogar, digite'sair'.pedra\n",
      "Eu também escolhi pedra. Empatamos.\n",
      "*********\n",
      "Escolha papel, pedra ou tesoura: \n",
      "Caso você não queira mais jogar, digite'sair'.papel\n",
      "Eu também escolhi papel. Empatamos.\n",
      "*********\n",
      "Escolha papel, pedra ou tesoura: \n",
      "Caso você não queira mais jogar, digite'sair'.tesoura\n",
      "Eu escolhi pedra. Você ganhou! Rock beats Scissors\n",
      "*********\n",
      "Escolha papel, pedra ou tesoura: \n",
      "Caso você não queira mais jogar, digite'sair'.sair\n",
      "------------------------------------------------------------\n",
      "o placar foi 1 pra mim e 1 para você\n",
      "Empatamos\n",
      "Quer jogar de novo? S/NN\n",
      "Está bem. Até a próxima!\n"
     ]
    }
   ],
   "source": [
    "papelpedratesoura()"
   ]
  }
 ],
 "metadata": {
  "kernelspec": {
   "display_name": "Python 3",
   "language": "python",
   "name": "python3"
  },
  "language_info": {
   "codemirror_mode": {
    "name": "ipython",
    "version": 3
   },
   "file_extension": ".py",
   "mimetype": "text/x-python",
   "name": "python",
   "nbconvert_exporter": "python",
   "pygments_lexer": "ipython3",
   "version": "3.8.8"
  },
  "toc": {
   "base_numbering": 1,
   "nav_menu": {},
   "number_sections": true,
   "sideBar": true,
   "skip_h1_title": false,
   "title_cell": "Table of Contents",
   "title_sidebar": "Contents",
   "toc_cell": false,
   "toc_position": {},
   "toc_section_display": true,
   "toc_window_display": false
  },
  "varInspector": {
   "cols": {
    "lenName": 16,
    "lenType": 16,
    "lenVar": 40
   },
   "kernels_config": {
    "python": {
     "delete_cmd_postfix": "",
     "delete_cmd_prefix": "del ",
     "library": "var_list.py",
     "varRefreshCmd": "print(var_dic_list())"
    },
    "r": {
     "delete_cmd_postfix": ") ",
     "delete_cmd_prefix": "rm(",
     "library": "var_list.r",
     "varRefreshCmd": "cat(var_dic_list()) "
    }
   },
   "types_to_exclude": [
    "module",
    "function",
    "builtin_function_or_method",
    "instance",
    "_Feature"
   ],
   "window_display": false
  }
 },
 "nbformat": 4,
 "nbformat_minor": 5
}
